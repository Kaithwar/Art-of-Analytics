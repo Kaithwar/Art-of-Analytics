{
  "nbformat": 4,
  "nbformat_minor": 0,
  "metadata": {
    "colab": {
      "provenance": []
    },
    "kernelspec": {
      "name": "python3",
      "display_name": "Python 3"
    },
    "language_info": {
      "name": "python"
    }
  },
  "cells": [
    {
      "cell_type": "markdown",
      "source": [
        "Consider the following dataset, which represents the number of hours studied and the corresponding scores achieved by a group of students:\n",
        "\n",
        "**Hr** : 2 , 3 , 4 , 6 , 7 , 8 , 9 , 11 , 12\n",
        "\n",
        "**Score** : 65 , 78 , 85 , 92 , 88 , 95 , 90 , 98 , 96\n",
        "\n",
        "Use linear regression to find the equation of the best-fit line for this dataset.\n",
        "Predict the score of a student who studied for 10 hours."
      ],
      "metadata": {
        "id": "fuHkv6nkU1Cf"
      }
    },
    {
      "cell_type": "markdown",
      "source": [
        "Import all the libraries"
      ],
      "metadata": {
        "id": "gRWS7cNVVUu8"
      }
    },
    {
      "cell_type": "code",
      "execution_count": null,
      "metadata": {
        "id": "bSyRNoR6UJC2"
      },
      "outputs": [],
      "source": []
    },
    {
      "cell_type": "markdown",
      "source": [
        "Store the values in X and Y"
      ],
      "metadata": {
        "id": "EHGn5WhYVXaz"
      }
    },
    {
      "cell_type": "code",
      "source": [],
      "metadata": {
        "id": "Q0zTTXY3VflR"
      },
      "execution_count": null,
      "outputs": []
    },
    {
      "cell_type": "markdown",
      "source": [
        "Create a Linear Regression Model and fit the data"
      ],
      "metadata": {
        "id": "adf7gPoQVgC6"
      }
    },
    {
      "cell_type": "code",
      "source": [],
      "metadata": {
        "id": "ebl_wdEtVpDN"
      },
      "execution_count": null,
      "outputs": []
    },
    {
      "cell_type": "markdown",
      "source": [
        "Find intercept of the model/equation"
      ],
      "metadata": {
        "id": "x7UaCWLIVpaE"
      }
    },
    {
      "cell_type": "code",
      "source": [],
      "metadata": {
        "id": "ZlXCSttuV5Ou"
      },
      "execution_count": null,
      "outputs": []
    }
  ]
}