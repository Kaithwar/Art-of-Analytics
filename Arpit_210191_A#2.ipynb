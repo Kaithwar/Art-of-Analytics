{
 "cells": [
  {
   "attachments": {},
   "cell_type": "markdown",
   "metadata": {
    "id": "LQ1oKO-50JbL"
   },
   "source": [
    "Welcome to your second assignment of **The Art of Analytics**."
   ]
  },
  {
   "attachments": {},
   "cell_type": "markdown",
   "metadata": {
    "id": "UVmgqXah0TuC"
   },
   "source": [
    "Start by importing all important libraries but as we did in last assignment, add the last two digits of your roll number too. (Example : import numpy as np68)\n",
    "Also comment your roll number here itself"
   ]
  },
  {
   "cell_type": "code",
   "execution_count": 2,
   "metadata": {
    "id": "gvZaqJtO0Ejw"
   },
   "outputs": [],
   "source": [
    "# Roll no: 210191\n",
    "import numpy as np91\n",
    "import pandas as pd91\n",
    "import matplotlib.pyplot as plt91"
   ]
  },
  {
   "attachments": {},
   "cell_type": "markdown",
   "metadata": {
    "id": "a4i7EXfC05PD"
   },
   "source": [
    "Read the csv file and assign it to a variable"
   ]
  },
  {
   "cell_type": "code",
   "execution_count": 3,
   "metadata": {
    "id": "vomLtqc804QH"
   },
   "outputs": [],
   "source": [
    "data = pd91.read_csv('IPL_Matches_2008_2022.csv')"
   ]
  },
  {
   "attachments": {},
   "cell_type": "markdown",
   "metadata": {
    "id": "grUSex411NYa"
   },
   "source": [
    "Display shape of dataframe"
   ]
  },
  {
   "cell_type": "code",
   "execution_count": 4,
   "metadata": {
    "id": "I33mgVPU1K9a"
   },
   "outputs": [
    {
     "data": {
      "text/plain": [
       "(950, 20)"
      ]
     },
     "execution_count": 4,
     "metadata": {},
     "output_type": "execute_result"
    }
   ],
   "source": [
    "data.shape"
   ]
  },
  {
   "attachments": {},
   "cell_type": "markdown",
   "metadata": {
    "id": "fdXvpgmP1QsX"
   },
   "source": [
    "Print all columns of dataframe"
   ]
  },
  {
   "cell_type": "code",
   "execution_count": 5,
   "metadata": {
    "id": "silNKzfB1Pwr"
   },
   "outputs": [
    {
     "data": {
      "text/plain": [
       "Index(['ID', 'City', 'Date', 'Season', 'MatchNumber', 'Team1', 'Team2',\n",
       "       'Venue', 'TossWinner', 'TossDecision', 'SuperOver', 'WinningTeam',\n",
       "       'WonBy', 'Margin', 'method', 'Player_of_Match', 'Team1Players',\n",
       "       'Team2Players', 'Umpire1', 'Umpire2'],\n",
       "      dtype='object')"
      ]
     },
     "execution_count": 5,
     "metadata": {},
     "output_type": "execute_result"
    }
   ],
   "source": [
    "data.columns"
   ]
  },
  {
   "attachments": {},
   "cell_type": "markdown",
   "metadata": {
    "id": "UaCYGy811XeL"
   },
   "source": [
    "Remove the column 'ID' and update the dataframe."
   ]
  },
  {
   "cell_type": "code",
   "execution_count": 6,
   "metadata": {
    "id": "qtH-yeKZ1UdR"
   },
   "outputs": [],
   "source": [
    "data.drop('ID', axis=1, inplace=True)"
   ]
  },
  {
   "attachments": {},
   "cell_type": "markdown",
   "metadata": {
    "id": "oQZeNWo61jm5"
   },
   "source": [
    "Set the 'WinningTeam' column as the index of dataframe"
   ]
  },
  {
   "cell_type": "code",
   "execution_count": 7,
   "metadata": {
    "id": "VjCD3MAA1i_S"
   },
   "outputs": [
    {
     "data": {
      "text/html": [
       "<div>\n",
       "<style scoped>\n",
       "    .dataframe tbody tr th:only-of-type {\n",
       "        vertical-align: middle;\n",
       "    }\n",
       "\n",
       "    .dataframe tbody tr th {\n",
       "        vertical-align: top;\n",
       "    }\n",
       "\n",
       "    .dataframe thead th {\n",
       "        text-align: right;\n",
       "    }\n",
       "</style>\n",
       "<table border=\"1\" class=\"dataframe\">\n",
       "  <thead>\n",
       "    <tr style=\"text-align: right;\">\n",
       "      <th></th>\n",
       "      <th>City</th>\n",
       "      <th>Date</th>\n",
       "      <th>Season</th>\n",
       "      <th>MatchNumber</th>\n",
       "      <th>Team1</th>\n",
       "      <th>Team2</th>\n",
       "      <th>Venue</th>\n",
       "      <th>TossWinner</th>\n",
       "      <th>TossDecision</th>\n",
       "      <th>SuperOver</th>\n",
       "      <th>WonBy</th>\n",
       "      <th>Margin</th>\n",
       "      <th>method</th>\n",
       "      <th>Player_of_Match</th>\n",
       "      <th>Team1Players</th>\n",
       "      <th>Team2Players</th>\n",
       "      <th>Umpire1</th>\n",
       "      <th>Umpire2</th>\n",
       "    </tr>\n",
       "    <tr>\n",
       "      <th>WinningTeam</th>\n",
       "      <th></th>\n",
       "      <th></th>\n",
       "      <th></th>\n",
       "      <th></th>\n",
       "      <th></th>\n",
       "      <th></th>\n",
       "      <th></th>\n",
       "      <th></th>\n",
       "      <th></th>\n",
       "      <th></th>\n",
       "      <th></th>\n",
       "      <th></th>\n",
       "      <th></th>\n",
       "      <th></th>\n",
       "      <th></th>\n",
       "      <th></th>\n",
       "      <th></th>\n",
       "      <th></th>\n",
       "    </tr>\n",
       "  </thead>\n",
       "  <tbody>\n",
       "    <tr>\n",
       "      <th>Gujarat Titans</th>\n",
       "      <td>Ahmedabad</td>\n",
       "      <td>2022-05-29</td>\n",
       "      <td>2022</td>\n",
       "      <td>Final</td>\n",
       "      <td>Rajasthan Royals</td>\n",
       "      <td>Gujarat Titans</td>\n",
       "      <td>Narendra Modi Stadium, Ahmedabad</td>\n",
       "      <td>Rajasthan Royals</td>\n",
       "      <td>bat</td>\n",
       "      <td>N</td>\n",
       "      <td>Wickets</td>\n",
       "      <td>7.0</td>\n",
       "      <td>NaN</td>\n",
       "      <td>HH Pandya</td>\n",
       "      <td>['YBK Jaiswal', 'JC Buttler', 'SV Samson', 'D ...</td>\n",
       "      <td>['WP Saha', 'Shubman Gill', 'MS Wade', 'HH Pan...</td>\n",
       "      <td>CB Gaffaney</td>\n",
       "      <td>Nitin Menon</td>\n",
       "    </tr>\n",
       "    <tr>\n",
       "      <th>Rajasthan Royals</th>\n",
       "      <td>Ahmedabad</td>\n",
       "      <td>2022-05-27</td>\n",
       "      <td>2022</td>\n",
       "      <td>Qualifier 2</td>\n",
       "      <td>Royal Challengers Bangalore</td>\n",
       "      <td>Rajasthan Royals</td>\n",
       "      <td>Narendra Modi Stadium, Ahmedabad</td>\n",
       "      <td>Rajasthan Royals</td>\n",
       "      <td>field</td>\n",
       "      <td>N</td>\n",
       "      <td>Wickets</td>\n",
       "      <td>7.0</td>\n",
       "      <td>NaN</td>\n",
       "      <td>JC Buttler</td>\n",
       "      <td>['V Kohli', 'F du Plessis', 'RM Patidar', 'GJ ...</td>\n",
       "      <td>['YBK Jaiswal', 'JC Buttler', 'SV Samson', 'D ...</td>\n",
       "      <td>CB Gaffaney</td>\n",
       "      <td>Nitin Menon</td>\n",
       "    </tr>\n",
       "    <tr>\n",
       "      <th>Royal Challengers Bangalore</th>\n",
       "      <td>Kolkata</td>\n",
       "      <td>2022-05-25</td>\n",
       "      <td>2022</td>\n",
       "      <td>Eliminator</td>\n",
       "      <td>Royal Challengers Bangalore</td>\n",
       "      <td>Lucknow Super Giants</td>\n",
       "      <td>Eden Gardens, Kolkata</td>\n",
       "      <td>Lucknow Super Giants</td>\n",
       "      <td>field</td>\n",
       "      <td>N</td>\n",
       "      <td>Runs</td>\n",
       "      <td>14.0</td>\n",
       "      <td>NaN</td>\n",
       "      <td>RM Patidar</td>\n",
       "      <td>['V Kohli', 'F du Plessis', 'RM Patidar', 'GJ ...</td>\n",
       "      <td>['Q de Kock', 'KL Rahul', 'M Vohra', 'DJ Hooda...</td>\n",
       "      <td>J Madanagopal</td>\n",
       "      <td>MA Gough</td>\n",
       "    </tr>\n",
       "    <tr>\n",
       "      <th>Gujarat Titans</th>\n",
       "      <td>Kolkata</td>\n",
       "      <td>2022-05-24</td>\n",
       "      <td>2022</td>\n",
       "      <td>Qualifier 1</td>\n",
       "      <td>Rajasthan Royals</td>\n",
       "      <td>Gujarat Titans</td>\n",
       "      <td>Eden Gardens, Kolkata</td>\n",
       "      <td>Gujarat Titans</td>\n",
       "      <td>field</td>\n",
       "      <td>N</td>\n",
       "      <td>Wickets</td>\n",
       "      <td>7.0</td>\n",
       "      <td>NaN</td>\n",
       "      <td>DA Miller</td>\n",
       "      <td>['YBK Jaiswal', 'JC Buttler', 'SV Samson', 'D ...</td>\n",
       "      <td>['WP Saha', 'Shubman Gill', 'MS Wade', 'HH Pan...</td>\n",
       "      <td>BNJ Oxenford</td>\n",
       "      <td>VK Sharma</td>\n",
       "    </tr>\n",
       "    <tr>\n",
       "      <th>Punjab Kings</th>\n",
       "      <td>Mumbai</td>\n",
       "      <td>2022-05-22</td>\n",
       "      <td>2022</td>\n",
       "      <td>70</td>\n",
       "      <td>Sunrisers Hyderabad</td>\n",
       "      <td>Punjab Kings</td>\n",
       "      <td>Wankhede Stadium, Mumbai</td>\n",
       "      <td>Sunrisers Hyderabad</td>\n",
       "      <td>bat</td>\n",
       "      <td>N</td>\n",
       "      <td>Wickets</td>\n",
       "      <td>5.0</td>\n",
       "      <td>NaN</td>\n",
       "      <td>Harpreet Brar</td>\n",
       "      <td>['PK Garg', 'Abhishek Sharma', 'RA Tripathi', ...</td>\n",
       "      <td>['JM Bairstow', 'S Dhawan', 'M Shahrukh Khan',...</td>\n",
       "      <td>AK Chaudhary</td>\n",
       "      <td>NA Patwardhan</td>\n",
       "    </tr>\n",
       "    <tr>\n",
       "      <th>...</th>\n",
       "      <td>...</td>\n",
       "      <td>...</td>\n",
       "      <td>...</td>\n",
       "      <td>...</td>\n",
       "      <td>...</td>\n",
       "      <td>...</td>\n",
       "      <td>...</td>\n",
       "      <td>...</td>\n",
       "      <td>...</td>\n",
       "      <td>...</td>\n",
       "      <td>...</td>\n",
       "      <td>...</td>\n",
       "      <td>...</td>\n",
       "      <td>...</td>\n",
       "      <td>...</td>\n",
       "      <td>...</td>\n",
       "      <td>...</td>\n",
       "      <td>...</td>\n",
       "    </tr>\n",
       "    <tr>\n",
       "      <th>Kolkata Knight Riders</th>\n",
       "      <td>Kolkata</td>\n",
       "      <td>2008-04-20</td>\n",
       "      <td>2007/08</td>\n",
       "      <td>4</td>\n",
       "      <td>Kolkata Knight Riders</td>\n",
       "      <td>Deccan Chargers</td>\n",
       "      <td>Eden Gardens</td>\n",
       "      <td>Deccan Chargers</td>\n",
       "      <td>bat</td>\n",
       "      <td>N</td>\n",
       "      <td>Wickets</td>\n",
       "      <td>5.0</td>\n",
       "      <td>NaN</td>\n",
       "      <td>DJ Hussey</td>\n",
       "      <td>['WP Saha', 'BB McCullum', 'RT Ponting', 'SC G...</td>\n",
       "      <td>['AC Gilchrist', 'Y Venugopal Rao', 'VVS Laxma...</td>\n",
       "      <td>BF Bowden</td>\n",
       "      <td>K Hariharan</td>\n",
       "    </tr>\n",
       "    <tr>\n",
       "      <th>Royal Challengers Bangalore</th>\n",
       "      <td>Mumbai</td>\n",
       "      <td>2008-04-20</td>\n",
       "      <td>2007/08</td>\n",
       "      <td>5</td>\n",
       "      <td>Mumbai Indians</td>\n",
       "      <td>Royal Challengers Bangalore</td>\n",
       "      <td>Wankhede Stadium</td>\n",
       "      <td>Mumbai Indians</td>\n",
       "      <td>bat</td>\n",
       "      <td>N</td>\n",
       "      <td>Wickets</td>\n",
       "      <td>5.0</td>\n",
       "      <td>NaN</td>\n",
       "      <td>MV Boucher</td>\n",
       "      <td>['L Ronchi', 'ST Jayasuriya', 'DJ Thornely', '...</td>\n",
       "      <td>['S Chanderpaul', 'R Dravid', 'LRPL Taylor', '...</td>\n",
       "      <td>SJ Davis</td>\n",
       "      <td>DJ Harper</td>\n",
       "    </tr>\n",
       "    <tr>\n",
       "      <th>Delhi Daredevils</th>\n",
       "      <td>Delhi</td>\n",
       "      <td>2008-04-19</td>\n",
       "      <td>2007/08</td>\n",
       "      <td>3</td>\n",
       "      <td>Delhi Daredevils</td>\n",
       "      <td>Rajasthan Royals</td>\n",
       "      <td>Feroz Shah Kotla</td>\n",
       "      <td>Rajasthan Royals</td>\n",
       "      <td>bat</td>\n",
       "      <td>N</td>\n",
       "      <td>Wickets</td>\n",
       "      <td>9.0</td>\n",
       "      <td>NaN</td>\n",
       "      <td>MF Maharoof</td>\n",
       "      <td>['G Gambhir', 'V Sehwag', 'S Dhawan', 'MK Tiwa...</td>\n",
       "      <td>['T Kohli', 'YK Pathan', 'SR Watson', 'M Kaif'...</td>\n",
       "      <td>Aleem Dar</td>\n",
       "      <td>GA Pratapkumar</td>\n",
       "    </tr>\n",
       "    <tr>\n",
       "      <th>Chennai Super Kings</th>\n",
       "      <td>Chandigarh</td>\n",
       "      <td>2008-04-19</td>\n",
       "      <td>2007/08</td>\n",
       "      <td>2</td>\n",
       "      <td>Kings XI Punjab</td>\n",
       "      <td>Chennai Super Kings</td>\n",
       "      <td>Punjab Cricket Association Stadium, Mohali</td>\n",
       "      <td>Chennai Super Kings</td>\n",
       "      <td>bat</td>\n",
       "      <td>N</td>\n",
       "      <td>Runs</td>\n",
       "      <td>33.0</td>\n",
       "      <td>NaN</td>\n",
       "      <td>MEK Hussey</td>\n",
       "      <td>['K Goel', 'JR Hopes', 'KC Sangakkara', 'Yuvra...</td>\n",
       "      <td>['PA Patel', 'ML Hayden', 'MEK Hussey', 'MS Dh...</td>\n",
       "      <td>MR Benson</td>\n",
       "      <td>SL Shastri</td>\n",
       "    </tr>\n",
       "    <tr>\n",
       "      <th>Kolkata Knight Riders</th>\n",
       "      <td>Bangalore</td>\n",
       "      <td>2008-04-18</td>\n",
       "      <td>2007/08</td>\n",
       "      <td>1</td>\n",
       "      <td>Royal Challengers Bangalore</td>\n",
       "      <td>Kolkata Knight Riders</td>\n",
       "      <td>M Chinnaswamy Stadium</td>\n",
       "      <td>Royal Challengers Bangalore</td>\n",
       "      <td>field</td>\n",
       "      <td>N</td>\n",
       "      <td>Runs</td>\n",
       "      <td>140.0</td>\n",
       "      <td>NaN</td>\n",
       "      <td>BB McCullum</td>\n",
       "      <td>['R Dravid', 'W Jaffer', 'V Kohli', 'JH Kallis...</td>\n",
       "      <td>['SC Ganguly', 'BB McCullum', 'RT Ponting', 'D...</td>\n",
       "      <td>Asad Rauf</td>\n",
       "      <td>RE Koertzen</td>\n",
       "    </tr>\n",
       "  </tbody>\n",
       "</table>\n",
       "<p>950 rows × 18 columns</p>\n",
       "</div>"
      ],
      "text/plain": [
       "                                   City        Date   Season  MatchNumber   \n",
       "WinningTeam                                                                 \n",
       "Gujarat Titans                Ahmedabad  2022-05-29     2022        Final  \\\n",
       "Rajasthan Royals              Ahmedabad  2022-05-27     2022  Qualifier 2   \n",
       "Royal Challengers Bangalore     Kolkata  2022-05-25     2022   Eliminator   \n",
       "Gujarat Titans                  Kolkata  2022-05-24     2022  Qualifier 1   \n",
       "Punjab Kings                     Mumbai  2022-05-22     2022           70   \n",
       "...                                 ...         ...      ...          ...   \n",
       "Kolkata Knight Riders           Kolkata  2008-04-20  2007/08            4   \n",
       "Royal Challengers Bangalore      Mumbai  2008-04-20  2007/08            5   \n",
       "Delhi Daredevils                  Delhi  2008-04-19  2007/08            3   \n",
       "Chennai Super Kings          Chandigarh  2008-04-19  2007/08            2   \n",
       "Kolkata Knight Riders         Bangalore  2008-04-18  2007/08            1   \n",
       "\n",
       "                                                   Team1   \n",
       "WinningTeam                                                \n",
       "Gujarat Titans                          Rajasthan Royals  \\\n",
       "Rajasthan Royals             Royal Challengers Bangalore   \n",
       "Royal Challengers Bangalore  Royal Challengers Bangalore   \n",
       "Gujarat Titans                          Rajasthan Royals   \n",
       "Punjab Kings                         Sunrisers Hyderabad   \n",
       "...                                                  ...   \n",
       "Kolkata Knight Riders              Kolkata Knight Riders   \n",
       "Royal Challengers Bangalore               Mumbai Indians   \n",
       "Delhi Daredevils                        Delhi Daredevils   \n",
       "Chennai Super Kings                      Kings XI Punjab   \n",
       "Kolkata Knight Riders        Royal Challengers Bangalore   \n",
       "\n",
       "                                                   Team2   \n",
       "WinningTeam                                                \n",
       "Gujarat Titans                            Gujarat Titans  \\\n",
       "Rajasthan Royals                        Rajasthan Royals   \n",
       "Royal Challengers Bangalore         Lucknow Super Giants   \n",
       "Gujarat Titans                            Gujarat Titans   \n",
       "Punjab Kings                                Punjab Kings   \n",
       "...                                                  ...   \n",
       "Kolkata Knight Riders                    Deccan Chargers   \n",
       "Royal Challengers Bangalore  Royal Challengers Bangalore   \n",
       "Delhi Daredevils                        Rajasthan Royals   \n",
       "Chennai Super Kings                  Chennai Super Kings   \n",
       "Kolkata Knight Riders              Kolkata Knight Riders   \n",
       "\n",
       "                                                                  Venue   \n",
       "WinningTeam                                                               \n",
       "Gujarat Titans                         Narendra Modi Stadium, Ahmedabad  \\\n",
       "Rajasthan Royals                       Narendra Modi Stadium, Ahmedabad   \n",
       "Royal Challengers Bangalore                       Eden Gardens, Kolkata   \n",
       "Gujarat Titans                                    Eden Gardens, Kolkata   \n",
       "Punjab Kings                                   Wankhede Stadium, Mumbai   \n",
       "...                                                                 ...   \n",
       "Kolkata Knight Riders                                      Eden Gardens   \n",
       "Royal Challengers Bangalore                            Wankhede Stadium   \n",
       "Delhi Daredevils                                       Feroz Shah Kotla   \n",
       "Chennai Super Kings          Punjab Cricket Association Stadium, Mohali   \n",
       "Kolkata Knight Riders                             M Chinnaswamy Stadium   \n",
       "\n",
       "                                              TossWinner TossDecision   \n",
       "WinningTeam                                                             \n",
       "Gujarat Titans                          Rajasthan Royals          bat  \\\n",
       "Rajasthan Royals                        Rajasthan Royals        field   \n",
       "Royal Challengers Bangalore         Lucknow Super Giants        field   \n",
       "Gujarat Titans                            Gujarat Titans        field   \n",
       "Punjab Kings                         Sunrisers Hyderabad          bat   \n",
       "...                                                  ...          ...   \n",
       "Kolkata Knight Riders                    Deccan Chargers          bat   \n",
       "Royal Challengers Bangalore               Mumbai Indians          bat   \n",
       "Delhi Daredevils                        Rajasthan Royals          bat   \n",
       "Chennai Super Kings                  Chennai Super Kings          bat   \n",
       "Kolkata Knight Riders        Royal Challengers Bangalore        field   \n",
       "\n",
       "                            SuperOver    WonBy  Margin method Player_of_Match   \n",
       "WinningTeam                                                                     \n",
       "Gujarat Titans                      N  Wickets     7.0    NaN       HH Pandya  \\\n",
       "Rajasthan Royals                    N  Wickets     7.0    NaN      JC Buttler   \n",
       "Royal Challengers Bangalore         N     Runs    14.0    NaN      RM Patidar   \n",
       "Gujarat Titans                      N  Wickets     7.0    NaN       DA Miller   \n",
       "Punjab Kings                        N  Wickets     5.0    NaN   Harpreet Brar   \n",
       "...                               ...      ...     ...    ...             ...   \n",
       "Kolkata Knight Riders               N  Wickets     5.0    NaN       DJ Hussey   \n",
       "Royal Challengers Bangalore         N  Wickets     5.0    NaN      MV Boucher   \n",
       "Delhi Daredevils                    N  Wickets     9.0    NaN     MF Maharoof   \n",
       "Chennai Super Kings                 N     Runs    33.0    NaN      MEK Hussey   \n",
       "Kolkata Knight Riders               N     Runs   140.0    NaN     BB McCullum   \n",
       "\n",
       "                                                                  Team1Players   \n",
       "WinningTeam                                                                      \n",
       "Gujarat Titans               ['YBK Jaiswal', 'JC Buttler', 'SV Samson', 'D ...  \\\n",
       "Rajasthan Royals             ['V Kohli', 'F du Plessis', 'RM Patidar', 'GJ ...   \n",
       "Royal Challengers Bangalore  ['V Kohli', 'F du Plessis', 'RM Patidar', 'GJ ...   \n",
       "Gujarat Titans               ['YBK Jaiswal', 'JC Buttler', 'SV Samson', 'D ...   \n",
       "Punjab Kings                 ['PK Garg', 'Abhishek Sharma', 'RA Tripathi', ...   \n",
       "...                                                                        ...   \n",
       "Kolkata Knight Riders        ['WP Saha', 'BB McCullum', 'RT Ponting', 'SC G...   \n",
       "Royal Challengers Bangalore  ['L Ronchi', 'ST Jayasuriya', 'DJ Thornely', '...   \n",
       "Delhi Daredevils             ['G Gambhir', 'V Sehwag', 'S Dhawan', 'MK Tiwa...   \n",
       "Chennai Super Kings          ['K Goel', 'JR Hopes', 'KC Sangakkara', 'Yuvra...   \n",
       "Kolkata Knight Riders        ['R Dravid', 'W Jaffer', 'V Kohli', 'JH Kallis...   \n",
       "\n",
       "                                                                  Team2Players   \n",
       "WinningTeam                                                                      \n",
       "Gujarat Titans               ['WP Saha', 'Shubman Gill', 'MS Wade', 'HH Pan...  \\\n",
       "Rajasthan Royals             ['YBK Jaiswal', 'JC Buttler', 'SV Samson', 'D ...   \n",
       "Royal Challengers Bangalore  ['Q de Kock', 'KL Rahul', 'M Vohra', 'DJ Hooda...   \n",
       "Gujarat Titans               ['WP Saha', 'Shubman Gill', 'MS Wade', 'HH Pan...   \n",
       "Punjab Kings                 ['JM Bairstow', 'S Dhawan', 'M Shahrukh Khan',...   \n",
       "...                                                                        ...   \n",
       "Kolkata Knight Riders        ['AC Gilchrist', 'Y Venugopal Rao', 'VVS Laxma...   \n",
       "Royal Challengers Bangalore  ['S Chanderpaul', 'R Dravid', 'LRPL Taylor', '...   \n",
       "Delhi Daredevils             ['T Kohli', 'YK Pathan', 'SR Watson', 'M Kaif'...   \n",
       "Chennai Super Kings          ['PA Patel', 'ML Hayden', 'MEK Hussey', 'MS Dh...   \n",
       "Kolkata Knight Riders        ['SC Ganguly', 'BB McCullum', 'RT Ponting', 'D...   \n",
       "\n",
       "                                   Umpire1         Umpire2  \n",
       "WinningTeam                                                 \n",
       "Gujarat Titans                 CB Gaffaney     Nitin Menon  \n",
       "Rajasthan Royals               CB Gaffaney     Nitin Menon  \n",
       "Royal Challengers Bangalore  J Madanagopal        MA Gough  \n",
       "Gujarat Titans                BNJ Oxenford       VK Sharma  \n",
       "Punjab Kings                  AK Chaudhary   NA Patwardhan  \n",
       "...                                    ...             ...  \n",
       "Kolkata Knight Riders            BF Bowden     K Hariharan  \n",
       "Royal Challengers Bangalore       SJ Davis       DJ Harper  \n",
       "Delhi Daredevils                 Aleem Dar  GA Pratapkumar  \n",
       "Chennai Super Kings              MR Benson      SL Shastri  \n",
       "Kolkata Knight Riders            Asad Rauf     RE Koertzen  \n",
       "\n",
       "[950 rows x 18 columns]"
      ]
     },
     "execution_count": 7,
     "metadata": {},
     "output_type": "execute_result"
    }
   ],
   "source": [
    "data.set_index('WinningTeam')"
   ]
  },
  {
   "attachments": {},
   "cell_type": "markdown",
   "metadata": {
    "id": "1Q7gI4zk1x18"
   },
   "source": [
    "Print a list of all the unique Venue"
   ]
  },
  {
   "cell_type": "code",
   "execution_count": 8,
   "metadata": {
    "id": "HSjRUpME1uzG"
   },
   "outputs": [
    {
     "data": {
      "text/plain": [
       "array(['Narendra Modi Stadium, Ahmedabad', 'Eden Gardens, Kolkata',\n",
       "       'Wankhede Stadium, Mumbai', 'Brabourne Stadium, Mumbai',\n",
       "       'Dr DY Patil Sports Academy, Mumbai',\n",
       "       'Maharashtra Cricket Association Stadium, Pune',\n",
       "       'Dubai International Cricket Stadium', 'Sharjah Cricket Stadium',\n",
       "       'Zayed Cricket Stadium, Abu Dhabi', 'Arun Jaitley Stadium, Delhi',\n",
       "       'MA Chidambaram Stadium, Chepauk, Chennai', 'Sheikh Zayed Stadium',\n",
       "       'Rajiv Gandhi International Stadium',\n",
       "       'Dr. Y.S. Rajasekhara Reddy ACA-VDCA Cricket Stadium',\n",
       "       'MA Chidambaram Stadium',\n",
       "       'Punjab Cricket Association IS Bindra Stadium', 'Wankhede Stadium',\n",
       "       'M.Chinnaswamy Stadium', 'Arun Jaitley Stadium', 'Eden Gardens',\n",
       "       'Sawai Mansingh Stadium',\n",
       "       'Maharashtra Cricket Association Stadium',\n",
       "       'Holkar Cricket Stadium',\n",
       "       'Rajiv Gandhi International Stadium, Uppal',\n",
       "       'M Chinnaswamy Stadium', 'Feroz Shah Kotla', 'Green Park',\n",
       "       'Punjab Cricket Association IS Bindra Stadium, Mohali',\n",
       "       'Saurashtra Cricket Association Stadium',\n",
       "       'Shaheed Veer Narayan Singh International Stadium',\n",
       "       'JSCA International Stadium Complex', 'Brabourne Stadium',\n",
       "       'Punjab Cricket Association Stadium, Mohali',\n",
       "       'MA Chidambaram Stadium, Chepauk', 'Sardar Patel Stadium, Motera',\n",
       "       'Barabati Stadium', 'Subrata Roy Sahara Stadium',\n",
       "       'Himachal Pradesh Cricket Association Stadium',\n",
       "       'Dr DY Patil Sports Academy', 'Nehru Stadium',\n",
       "       'Vidarbha Cricket Association Stadium, Jamtha',\n",
       "       'New Wanderers Stadium', 'SuperSport Park', 'Kingsmead',\n",
       "       'OUTsurance Oval', \"St George's Park\", 'De Beers Diamond Oval',\n",
       "       'Buffalo Park', 'Newlands'], dtype=object)"
      ]
     },
     "execution_count": 8,
     "metadata": {},
     "output_type": "execute_result"
    }
   ],
   "source": [
    "data.Venue.unique()"
   ]
  },
  {
   "attachments": {},
   "cell_type": "markdown",
   "metadata": {
    "id": "IPDXA_MZ2T7W"
   },
   "source": [
    "What is the Number of unique Player of the Match in the given dataset ?"
   ]
  },
  {
   "cell_type": "code",
   "execution_count": 9,
   "metadata": {
    "id": "Y_Zf8h252MHg"
   },
   "outputs": [
    {
     "data": {
      "text/plain": [
       "Player_of_Match\n",
       "AB de Villiers    25\n",
       "CH Gayle          22\n",
       "DA Warner         18\n",
       "RG Sharma         18\n",
       "MS Dhoni          17\n",
       "                  ..\n",
       "CR Brathwaite      1\n",
       "Mohsin Khan        1\n",
       "A Zampa            1\n",
       "BCJ Cutting        1\n",
       "MF Maharoof        1\n",
       "Name: count, Length: 262, dtype: int64"
      ]
     },
     "execution_count": 9,
     "metadata": {},
     "output_type": "execute_result"
    }
   ],
   "source": [
    "data['Player_of_Match'].value_counts()"
   ]
  },
  {
   "attachments": {},
   "cell_type": "markdown",
   "metadata": {
    "id": "R9GLp5u72i9V"
   },
   "source": [
    "What is the mean, median and standard deviation of 'Margin' in the \n",
    "dataset ?"
   ]
  },
  {
   "cell_type": "code",
   "execution_count": 10,
   "metadata": {
    "id": "Q4A9-OA_2gOW"
   },
   "outputs": [
    {
     "data": {
      "text/plain": [
       "17.0568669527897"
      ]
     },
     "execution_count": 10,
     "metadata": {},
     "output_type": "execute_result"
    }
   ],
   "source": [
    "np91.mean(data.Margin)"
   ]
  },
  {
   "cell_type": "code",
   "execution_count": 11,
   "metadata": {},
   "outputs": [
    {
     "data": {
      "text/plain": [
       "nan"
      ]
     },
     "execution_count": 11,
     "metadata": {},
     "output_type": "execute_result"
    }
   ],
   "source": [
    "np91.median(data.Margin)"
   ]
  },
  {
   "cell_type": "code",
   "execution_count": 12,
   "metadata": {},
   "outputs": [
    {
     "data": {
      "text/plain": [
       "21.621499842056902"
      ]
     },
     "execution_count": 12,
     "metadata": {},
     "output_type": "execute_result"
    }
   ],
   "source": [
    "np91.std(data.Margin)"
   ]
  },
  {
   "attachments": {},
   "cell_type": "markdown",
   "metadata": {
    "id": "6Bw9SiNa2zQ2"
   },
   "source": [
    "Which player has received the most number of Player of the match award?"
   ]
  },
  {
   "cell_type": "code",
   "execution_count": 13,
   "metadata": {
    "id": "CHi8pWOk2xo9"
   },
   "outputs": [
    {
     "data": {
      "text/plain": [
       "'AB de Villiers'"
      ]
     },
     "execution_count": 13,
     "metadata": {},
     "output_type": "execute_result"
    }
   ],
   "source": [
    "data['Player_of_Match'].value_counts().index[0]"
   ]
  },
  {
   "attachments": {},
   "cell_type": "markdown",
   "metadata": {
    "id": "mfkfPMkM3AjX"
   },
   "source": [
    "Name the Team which has the highest Margin of Win ?"
   ]
  },
  {
   "cell_type": "code",
   "execution_count": 14,
   "metadata": {
    "id": "UEAtsLxo29pY"
   },
   "outputs": [
    {
     "data": {
      "text/plain": [
       "329    Delhi\n",
       "Name: City, dtype: object"
      ]
     },
     "execution_count": 14,
     "metadata": {},
     "output_type": "execute_result"
    }
   ],
   "source": [
    "a = max(data['Margin'])\n",
    "(data.loc[data['Margin'] == a]).City"
   ]
  },
  {
   "attachments": {},
   "cell_type": "markdown",
   "metadata": {
    "id": "Nnu_nSPZ3Oul"
   },
   "source": [
    "Make a pie chart to analyse Teams (Either Team 1 or Team 2) with mumber of match played?\n",
    "Label the Pie Chart."
   ]
  },
  {
   "cell_type": "code",
   "execution_count": 17,
   "metadata": {
    "id": "TGC68B_F3JIx"
   },
   "outputs": [
    {
     "data": {
      "image/png": "[encoded data removed]",
      "text/plain": [
       "<Figure size 432x288 with 1 Axes>"
      ]
     },
     "metadata": {},
     "output_type": "display_data"
    }
   ],
   "source": [
    "Team = data.Team1.value_counts()\n",
    "frequency_df2 = pd91.DataFrame({'Element': Team.index, 'Frequency': Team.values})\n",
    "plt91.pie(frequency_df2['Frequency'], labels = frequency_df2['Element'], autopct='%.0f%%')\n",
    "plt91.show() "
   ]
  },
  {
   "attachments": {},
   "cell_type": "markdown",
   "metadata": {
    "id": "VEnNLaEG5iY5"
   },
   "source": [
    "Bar chart of Umpires (U can use Umpire 1 or Umpire 2, ur choice) and number of match they umpired? \n",
    "Set figure size as (100,20)"
   ]
  },
  {
   "cell_type": "code",
   "execution_count": null,
   "metadata": {
    "id": "P4nBESUx4eND"
   },
   "outputs": [
    {
     "data": {
      "image/png": "[encoded data removed]",
      "text/plain": [
       "<Figure size 7200x1440 with 1 Axes>"
      ]
     },
     "metadata": {
      "needs_background": "light"
     },
     "output_type": "display_data"
    }
   ],
   "source": [
    "Match_Played = data.MatchNumber\n",
    "Umpire = data.Umpire1\n",
    "plt91.figure(figsize=(100,20))\n",
    "plt91.bar(Match_Played,Team)\n",
    "plt91.show() "
   ]
  },
  {
   "attachments": {},
   "cell_type": "markdown",
   "metadata": {
    "id": "iuXe0ljn9YdY"
   },
   "source": [
    "Any Comment?"
   ]
  },
  {
   "attachments": {},
   "cell_type": "markdown",
   "metadata": {
    "id": "bJ2si-bB6bCQ"
   },
   "source": [
    "In Pie chart it shows error, I have tried so much but it didn't work"
   ]
  },
  {
   "cell_type": "code",
   "execution_count": null,
   "metadata": {},
   "outputs": [],
   "source": []
  }
 ],
 "metadata": {
  "colab": {
   "provenance": []
  },
  "kernelspec": {
   "display_name": "Python 3 (ipykernel)",
   "language": "python",
   "name": "python3"
  },
  "language_info": {
   "codemirror_mode": {
    "name": "ipython",
    "version": 3
   },
   "file_extension": ".py",
   "mimetype": "text/x-python",
   "name": "python",
   "nbconvert_exporter": "python",
   "pygments_lexer": "ipython3",
   "version": "3.10.5"
  }
 },
 "nbformat": 4,
 "nbformat_minor": 1
}
