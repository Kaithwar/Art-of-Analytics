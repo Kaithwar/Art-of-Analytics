{
 "cells": [
  {
   "cell_type": "markdown",
   "metadata": {
    "id": "JgrG69-DbVAu"
   },
   "source": [
    "Examples"
   ]
  },
  {
   "cell_type": "code",
   "execution_count": 3,
   "metadata": {
    "colab": {
     "base_uri": "https://localhost:8080/"
    },
    "id": "GorFqNefbVAy",
    "outputId": "278bfa5f-ad08-4e40-832c-bfdee42d2f0f"
   },
   "outputs": [
    {
     "name": "stdout",
     "output_type": "stream",
     "text": [
      "[2 4 6]\n",
      "2.0\n",
      "0.816496580927726\n",
      "3\n",
      "1\n",
      "6\n",
      "3\n",
      "[1 2 3]\n",
      "[3 2 1]\n",
      "[1 2 3 4 5 6]\n"
     ]
    }
   ],
   "source": [
    "import numpy as np\n",
    "\n",
    "# Creating an array\n",
    "a = np.array([1, 2, 3])\n",
    "\n",
    "# Adding two arrays\n",
    "b = np.array([4, 5, 6])\n",
    "\n",
    "# Multiplying an array by a number\n",
    "c = a * 2\n",
    "\n",
    "\n",
    "# Finding the mean of an array\n",
    "d = np.mean(a)\n",
    "\n",
    "# Finding the standard deviation of an array\n",
    "e = np.std(a)\n",
    "\n",
    "# Finding the maximum value in an array\n",
    "f = np.max(a)\n",
    "\n",
    "# Finding the minimum value in an array\n",
    "g = np.min(a)\n",
    "\n",
    "# Finding the sum of all the values in an array\n",
    "h = np.sum(a)\n",
    "\n",
    "# Finding the number of elements in an array\n",
    "i = np.size(a)\n",
    "\n",
    "# Sorting an array\n",
    "j = np.sort(a)\n",
    "\n",
    "# Reversing the order of an array\n",
    "k = np.flip(a)\n",
    "\n",
    "# Joining two arrays\n",
    "m = np.concatenate((a, b))\n",
    "\n",
    "print(c)\n",
    "print(d)\n",
    "print(e)\n",
    "print(f)\n",
    "print(g)\n",
    "print(h)\n",
    "print(i)\n",
    "print(j)\n",
    "print(k)\n",
    "print(m)"
   ]
  }
 ],
 "metadata": {
  "colab": {
   "provenance": []
  },
  "kernelspec": {
   "display_name": "Python 3 (ipykernel)",
   "language": "python",
   "name": "python3"
  },
  "language_info": {
   "codemirror_mode": {
    "name": "ipython",
    "version": 3
   },
   "file_extension": ".py",
   "mimetype": "text/x-python",
   "name": "python",
   "nbconvert_exporter": "python",
   "pygments_lexer": "ipython3",
   "version": "3.10.9"
  }
 },
 "nbformat": 4,
 "nbformat_minor": 1
}
