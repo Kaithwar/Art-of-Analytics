{
 "cells": [
  {
   "cell_type": "markdown",
   "metadata": {
    "id": "KBC-TeRWnwQX"
   },
   "source": [
    "### **Question 1: Linear Regression**\n",
    "a) Load the \"Boston Housing\" dataset from scikit-learn's built-in datasets.\n",
    "\n",
    "b) Split the data into training and testing sets.\n",
    "\n",
    "if your roll number is even then\n",
    "(80% training, 20% testing).\n",
    "\n",
    "if your roll number is odd then\n",
    "(70% training, 30% testing).\n",
    "\n",
    "c) Train a linear regression model on the training data and make predictions on the testing data.\n",
    "\n",
    "d) Calculate the mean squared error (MSE) between the predicted and actual values."
   ]
  },
  {
   "cell_type": "code",
   "execution_count": 1,
   "metadata": {
    "id": "oPQXrvkpnuck"
   },
   "outputs": [
    {
     "name": "stdout",
     "output_type": "stream",
     "text": [
      "Mean Squared Error: 21.517444231177354\n"
     ]
    }
   ],
   "source": [
    "from sklearn import datasets\n",
    "import pandas as pd\n",
    "import numpy as np\n",
    "\n",
    "data_url = \"http://lib.stat.cmu.edu/datasets/boston\"\n",
    "raw_df = pd.read_csv(data_url, sep=\"\\s+\", skiprows=22, header=None)\n",
    "data = np.hstack([raw_df.values[::2, :], raw_df.values[1::2, :2]])\n",
    "target = raw_df.values[1::2, 2]\n",
    "\n",
    "X = data\n",
    "y = target\n",
    "\n",
    "# Split the data into training and testing sets\n",
    "from sklearn.model_selection import train_test_split\n",
    "X_train,X_test,y_train,y_test = train_test_split(X, y, test_size=0.3, random_state=42)\n",
    "\n",
    "\n",
    "# Train a linear regression model\n",
    "from sklearn.linear_model import LinearRegression\n",
    "model = LinearRegression()\n",
    "model.fit(X_train, y_train)\n",
    "\n",
    "# Make predictions on the testing data\n",
    "y_predict = model.predict(X_test)\n",
    "\n",
    "# Calculate the mean squared error\n",
    "from sklearn.metrics import mean_squared_error\n",
    "mse = mean_squared_error(y_test, y_predict)\n",
    "\n",
    "# print(\"Mean Squared Error:\", mse)\n",
    "print(\"Mean Squared Error:\", mse)\n"
   ]
  },
  {
   "cell_type": "markdown",
   "metadata": {
    "id": "YSS5rTA4pTvS"
   },
   "source": [
    "# **Question 2: L1 Regularization (Lasso)**\n",
    "a) Load the \"Diabetes\" dataset from scikit-learn's built-in datasets.\n",
    "\n",
    "b) Split the data into training and testing sets.\n",
    "\n",
    "if your roll number is even then (80% training, 20% testing).\n",
    "\n",
    "if your roll number is odd then (70% training, 30% testing).\n",
    "\n",
    "c) Train a Lasso regression model on the training data with an alpha value of 0.1.\n",
    "\n",
    "***Model name should be your first name***\n",
    "\n",
    "d) Evaluate the model's performance using the mean squared error (MSE) on the testing data.\n",
    "\n",
    "e) Identify the features that were selected (non-zero coefficients) by the Lasso model."
   ]
  },
  {
   "cell_type": "code",
   "execution_count": 2,
   "metadata": {},
   "outputs": [
    {
     "name": "stdout",
     "output_type": "stream",
     "text": [
      "Mean Squared Error (MSE) on testing data: 2775.165076183445\n",
      "Selected features by Lasso model: ['sex', 'bmi', 'bp', 's1', 's3', 's5', 's6']\n"
     ]
    }
   ],
   "source": [
    "import numpy as np\n",
    "from sklearn import datasets, linear_model\n",
    "from sklearn.model_selection import train_test_split\n",
    "from sklearn.metrics import mean_squared_error\n",
    "from sklearn.linear_model import Lasso\n",
    "\n",
    "\n",
    "diabetes = datasets.load_diabetes()\n",
    "X = diabetes.data\n",
    "y = diabetes.target\n",
    "\n",
    "X_train,X_test,y_train,y_test = train_test_split(X, y, test_size=0.3, random_state=42)\n",
    "\n",
    "\n",
    "# Training a Lasso regression model on the training data with alpha=0.1\n",
    "Arpit = Lasso(alpha=0.1)\n",
    "Arpit.fit(X_train, y_train)\n",
    "\n",
    "# Evaluate the model's performance on the testing data\n",
    "y_predict = Arpit.predict(X_test)\n",
    "mse = mean_squared_error(y_test, y_predict)\n",
    "print(\"Mean Squared Error (MSE) on testing data:\",mse)\n",
    "\n",
    "\n",
    "# Identify the features selected by the Lasso model\n",
    "selected_features = [diabetes.feature_names[i] for i in range(len(Arpit.coef_)) if Arpit.coef_[i] != 0]\n",
    "print(\"Selected features by Lasso model:\",selected_features)"
   ]
  },
  {
   "cell_type": "markdown",
   "metadata": {
    "id": "LPm7ty0SpplH"
   },
   "source": [
    "# **Question 3: L2 Regularization (Ridge)**\n",
    "a) Load the \"California Housing\" dataset from an online source (e.g., Kaggle).\n",
    "*housing.csv* written\n",
    "\n",
    "b) Perform any necessary preprocessing steps, such as handling missing values or scaling the features.\n",
    "\n",
    "c) Split the data into training and testing sets.\n",
    "\n",
    "if your roll number is prime (last two digits) then (85% training, 15% testing).\n",
    "\n",
    "if your roll number is not prime (last two digits) then (75% training, 35% testing).\n",
    "\n",
    "d) Train a Ridge regression model on the training data with an alpha value of 0.01.\n",
    "\n",
    "e) Calculate the mean squared error (MSE) on the testing data to assess the model's performance."
   ]
  },
  {
   "cell_type": "code",
   "execution_count": 3,
   "metadata": {
    "id": "YZjj1ogDpjz7"
   },
   "outputs": [
    {
     "name": "stdout",
     "output_type": "stream",
     "text": [
      "Mean Squared Error (MSE) on testing data: 22893.33411199445\n"
     ]
    }
   ],
   "source": [
    "from sklearn.linear_model import Ridge\n",
    "from sklearn.preprocessing import StandardScaler\n",
    "\n",
    "# Load the California Housing dataset from an online source (e.g., Kaggle)\n",
    "data = pd.read_csv('housing.csv')\n",
    "# data.head()\n",
    "\n",
    "data.drop('ocean_proximity', axis=1, inplace=True)\n",
    "X = data.drop('households', axis=1) # I have taking households as target and according to it I am training the data set\n",
    "y = data['households']\n",
    "\n",
    "# Handle missing values, if any\n",
    "X = X.fillna(0)  # Replace NaN with 0\n",
    "\n",
    "# Split the data into training and testing sets\n",
    "X_train,X_test,y_train,y_test = train_test_split(X, y, test_size=0.15, random_state=42)\n",
    "\n",
    "# Train a Ridge regression model on the training data with alpha=0.01\n",
    "ridge = Ridge(alpha=0.01)\n",
    "ridge.fit(X_train, y_train)\n",
    "\n",
    "# Evaluate the model's performance on the testing data\n",
    "y_predict = ridge.predict(X_test)\n",
    "mse = mean_squared_error(y_test, y_predict)\n",
    "print(\"Mean Squared Error (MSE) on testing data:\",mse)"
   ]
  },
  {
   "cell_type": "code",
   "execution_count": null,
   "metadata": {
    "id": "dYhx67XpqtUH"
   },
   "outputs": [],
   "source": []
  }
 ],
 "metadata": {
  "colab": {
   "provenance": []
  },
  "kernelspec": {
   "display_name": "Python 3 (ipykernel)",
   "language": "python",
   "name": "python3"
  },
  "language_info": {
   "codemirror_mode": {
    "name": "ipython",
    "version": 3
   },
   "file_extension": ".py",
   "mimetype": "text/x-python",
   "name": "python",
   "nbconvert_exporter": "python",
   "pygments_lexer": "ipython3",
   "version": "3.10.5"
  }
 },
 "nbformat": 4,
 "nbformat_minor": 1
}
