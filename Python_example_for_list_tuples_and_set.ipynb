{
 "cells": [
  {
   "cell_type": "markdown",
   "metadata": {
    "id": "eAXUx2tTKoOX"
   },
   "source": [
    "Some examples of lists, tuples, and sets in Python:\n",
    "\n",
    "**Lists**\n",
    "\n",
    "A list is a collection of items that are ordered and can be accessed by their index. Lists are created using square brackets."
   ]
  },
  {
   "cell_type": "code",
   "execution_count": null,
   "metadata": {
    "id": "aPG1yQ3FKoOb"
   },
   "outputs": [],
   "source": [
    "my_list = [1, 2, 3, 4, 5]\n",
    "\n",
    "print(my_list[0])  # 1\n",
    "print(my_list[-1])  # 5"
   ]
  },
  {
   "cell_type": "markdown",
   "metadata": {
    "id": "SgaF_3K6KoOd"
   },
   "source": [
    "**Tuples**\n",
    "\n",
    "A tuple is a collection of items that are ordered and cannot be changed. Tuples are created using parentheses."
   ]
  },
  {
   "cell_type": "code",
   "execution_count": null,
   "metadata": {
    "id": "ZCW28fOkKoOd"
   },
   "outputs": [],
   "source": [
    "my_tuple = (1, 2, 3, 4, 5)\n",
    "\n",
    "print(my_tuple[0])  # 1\n",
    "print(my_tuple[-1])  # 5"
   ]
  },
  {
   "cell_type": "markdown",
   "metadata": {
    "id": "a8yyLJ0eKoOe"
   },
   "source": [
    "**Sets**\n",
    "\n",
    "A set is a collection of items that are unordered and cannot contain duplicates. Sets are created using curly braces."
   ]
  },
  {
   "cell_type": "code",
   "execution_count": null,
   "metadata": {
    "id": "NyXUTw1cKoOe"
   },
   "outputs": [],
   "source": [
    "my_set = {1, 2, 3, 4, 5}\n",
    "\n",
    "print(my_set)  # {1, 2, 3, 4, 5}\n",
    "\n",
    "print(my_set.add(6))  # my_set now contains {1, 2, 3, 4, 5, 6}\n",
    "\n",
    "print(my_set.remove(2))  # my_set now contains {1, 3, 4, 5, 6}"
   ]
  },
  {
   "cell_type": "markdown",
   "metadata": {
    "id": "r-AvrC8-KoOf"
   },
   "source": [
    "Go through these examples and if there's any doubt, ask me in the group"
   ]
  }
 ],
 "metadata": {
  "colab": {
   "provenance": []
  },
  "kernelspec": {
   "display_name": "Python 3 (ipykernel)",
   "language": "python",
   "name": "python3"
  },
  "language_info": {
   "codemirror_mode": {
    "name": "ipython",
    "version": 3
   },
   "file_extension": ".py",
   "mimetype": "text/x-python",
   "name": "python",
   "nbconvert_exporter": "python",
   "pygments_lexer": "ipython3",
   "version": "3.10.9"
  }
 },
 "nbformat": 4,
 "nbformat_minor": 1
}
